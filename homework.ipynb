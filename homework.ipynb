{
  "nbformat": 4,
  "nbformat_minor": 0,
  "metadata": {
    "colab": {
      "provenance": []
    },
    "kernelspec": {
      "name": "python3",
      "display_name": "Python 3"
    },
    "language_info": {
      "name": "python"
    }
  },
  "cells": [
    {
      "cell_type": "code",
      "execution_count": 1,
      "metadata": {
        "id": "jfZerLIdyynM"
      },
      "outputs": [],
      "source": [
        "a = 2\n",
        "\n",
        "\n"
      ]
    },
    {
      "cell_type": "code",
      "source": [
        "# library function or inbulit function\n",
        "print (a)"
      ],
      "metadata": {
        "colab": {
          "base_uri": "https://localhost:8080/"
        },
        "id": "wmcTNfrs0dAY",
        "outputId": "499d670c-e491-49a9-fe13-e011f1531309"
      },
      "execution_count": 2,
      "outputs": [
        {
          "output_type": "stream",
          "name": "stdout",
          "text": [
            "2\n"
          ]
        }
      ]
    },
    {
      "cell_type": "code",
      "source": [
        "print(\"Gaytri kadam\")"
      ],
      "metadata": {
        "colab": {
          "base_uri": "https://localhost:8080/"
        },
        "id": "9eqIAd7X0oxW",
        "outputId": "25a9d461-dfc8-4835-8f87-fa9d3f4cdce1"
      },
      "execution_count": 3,
      "outputs": [
        {
          "output_type": "stream",
          "name": "stdout",
          "text": [
            "Gaytri kadam\n"
          ]
        }
      ]
    },
    {
      "cell_type": "code",
      "source": [
        "name = \" Gaytri kadam\""
      ],
      "metadata": {
        "id": "qKi4wt6A09DI"
      },
      "execution_count": 4,
      "outputs": []
    },
    {
      "cell_type": "code",
      "source": [
        "print(name)"
      ],
      "metadata": {
        "colab": {
          "base_uri": "https://localhost:8080/"
        },
        "id": "t43zkWvL1CvL",
        "outputId": "8f8d2b11-2559-4f6f-ca40-6903a1444364"
      },
      "execution_count": 5,
      "outputs": [
        {
          "output_type": "stream",
          "name": "stdout",
          "text": [
            " Gaytri kadam\n"
          ]
        }
      ]
    },
    {
      "cell_type": "code",
      "source": [
        "name"
      ],
      "metadata": {
        "colab": {
          "base_uri": "https://localhost:8080/",
          "height": 35
        },
        "id": "M5sFoX5R1Ks5",
        "outputId": "949e8756-48d1-4c7f-c280-6ebdb1ddf01a"
      },
      "execution_count": 6,
      "outputs": [
        {
          "output_type": "execute_result",
          "data": {
            "text/plain": [
              "' Gaytri kadam'"
            ],
            "application/vnd.google.colaboratory.intrinsic+json": {
              "type": "string"
            }
          },
          "metadata": {},
          "execution_count": 6
        }
      ]
    },
    {
      "cell_type": "code",
      "source": [
        "a,b,c=5,4,7"
      ],
      "metadata": {
        "id": "EBIXANZc1T7T"
      },
      "execution_count": 9,
      "outputs": []
    },
    {
      "cell_type": "code",
      "source": [
        "a = b = c = 7"
      ],
      "metadata": {
        "id": "ChL6h0Or1Q68"
      },
      "execution_count": 10,
      "outputs": []
    },
    {
      "cell_type": "code",
      "source": [
        "print(a,b,c, sep=',')"
      ],
      "metadata": {
        "colab": {
          "base_uri": "https://localhost:8080/"
        },
        "id": "Tx2WBGpT1ndF",
        "outputId": "c3633c21-1e52-4c18-d15f-73ce6ff39e9b"
      },
      "execution_count": 13,
      "outputs": [
        {
          "output_type": "stream",
          "name": "stdout",
          "text": [
            "7,7,7\n"
          ]
        }
      ]
    },
    {
      "cell_type": "code",
      "source": [
        "print(a,b,c, sep='@')"
      ],
      "metadata": {
        "colab": {
          "base_uri": "https://localhost:8080/"
        },
        "id": "dI-q5MoM1xCR",
        "outputId": "0429bef9-5417-42b4-c5f5-34fd23654be0"
      },
      "execution_count": 14,
      "outputs": [
        {
          "output_type": "stream",
          "name": "stdout",
          "text": [
            "7@7@7\n"
          ]
        }
      ]
    },
    {
      "cell_type": "code",
      "source": [
        "print(45,67,89, sep = \"\")"
      ],
      "metadata": {
        "colab": {
          "base_uri": "https://localhost:8080/"
        },
        "id": "34Ugt4Mb2Wu9",
        "outputId": "565e7c31-0fa0-4255-b18f-d4670148f133"
      },
      "execution_count": 15,
      "outputs": [
        {
          "output_type": "stream",
          "name": "stdout",
          "text": [
            "456789\n"
          ]
        }
      ]
    },
    {
      "cell_type": "code",
      "source": [
        "print('Gaytri kadam', end='\\t')\n",
        "print(\"nutan jadhav\")\n",
        "print(\"sandhya devkate\")"
      ],
      "metadata": {
        "colab": {
          "base_uri": "https://localhost:8080/"
        },
        "id": "Shzjfi9A4jgm",
        "outputId": "3227f499-68ff-4060-e557-b5a686837912"
      },
      "execution_count": 16,
      "outputs": [
        {
          "output_type": "stream",
          "name": "stdout",
          "text": [
            "Gaytri kadam\tnutan jadhav\n",
            "sandhya devkate\n"
          ]
        }
      ]
    },
    {
      "cell_type": "code",
      "source": [
        "# wite code to add 2 nos.\n",
        "print(\"Enter Two Nos.\")\n",
        "a = int(input(\"input the value of a \"))\n",
        "b = int(input(\"input the value of b\"))\n",
        "c = a + b\n",
        "print(c)"
      ],
      "metadata": {
        "colab": {
          "base_uri": "https://localhost:8080/"
        },
        "id": "hgdKezHC4_3C",
        "outputId": "cb07d987-e929-43ab-e780-bc129b242e82"
      },
      "execution_count": 20,
      "outputs": [
        {
          "output_type": "stream",
          "name": "stdout",
          "text": [
            "Enter Two Nos.\n",
            "input the value of a 9\n",
            "input the value of b10\n",
            "19\n"
          ]
        }
      ]
    },
    {
      "cell_type": "code",
      "source": [
        "9"
      ],
      "metadata": {
        "id": "5eznFsh_51lM"
      },
      "execution_count": 18,
      "outputs": []
    }
  ]
}